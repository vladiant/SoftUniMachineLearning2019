{
 "cells": [
  {
   "cell_type": "markdown",
   "metadata": {},
   "source": [
    "# Machine Learning Pipeline"
   ]
  },
  {
   "cell_type": "markdown",
   "metadata": {},
   "source": [
    "Based on [End-to-End Machine Learning Pipeline with scikit learn](https://www.youtube.com/watch?v=XvnkUg1yVmk) from [CodeEmporium](https://www.youtube.com/channel/UC5_6ZD6s8klmMu9TXEB_1IA) Youtube channel"
   ]
  },
  {
   "cell_type": "code",
   "execution_count": 1,
   "metadata": {},
   "outputs": [
    {
     "name": "stdout",
     "output_type": "stream",
     "text": [
      "Requirement already satisfied: sklearn_pandas in /home/vladiant/.local/lib/python3.8/site-packages (2.1.0)\n",
      "Requirement already satisfied: scipy>=1.5.1 in /home/vladiant/.local/lib/python3.8/site-packages (from sklearn_pandas) (1.5.3)\n",
      "Requirement already satisfied: pandas>=1.1.4 in /home/vladiant/.local/lib/python3.8/site-packages (from sklearn_pandas) (1.2.3)\n",
      "Requirement already satisfied: scikit-learn>=0.23.0 in /home/vladiant/.local/lib/python3.8/site-packages (from sklearn_pandas) (0.23.2)\n",
      "Requirement already satisfied: numpy>=1.18.1 in /home/vladiant/.local/lib/python3.8/site-packages (from sklearn_pandas) (1.18.5)\n",
      "Requirement already satisfied: python-dateutil>=2.7.3 in /usr/lib/python3/dist-packages (from pandas>=1.1.4->sklearn_pandas) (2.7.3)\n",
      "Requirement already satisfied: pytz>=2017.3 in /usr/lib/python3/dist-packages (from pandas>=1.1.4->sklearn_pandas) (2019.3)\n",
      "Requirement already satisfied: threadpoolctl>=2.0.0 in /home/vladiant/.local/lib/python3.8/site-packages (from scikit-learn>=0.23.0->sklearn_pandas) (2.1.0)\n",
      "Requirement already satisfied: joblib>=0.11 in /home/vladiant/.local/lib/python3.8/site-packages (from scikit-learn>=0.23.0->sklearn_pandas) (0.17.0)\n",
      "Requirement already satisfied: catboost in /home/vladiant/.local/lib/python3.8/site-packages (0.24.4)\n",
      "Requirement already satisfied: pandas>=0.24.0 in /home/vladiant/.local/lib/python3.8/site-packages (from catboost) (1.2.3)\n",
      "Requirement already satisfied: plotly in /home/vladiant/.local/lib/python3.8/site-packages (from catboost) (4.14.3)\n",
      "Requirement already satisfied: graphviz in /home/vladiant/.local/lib/python3.8/site-packages (from catboost) (0.16)\n",
      "Requirement already satisfied: six in /usr/lib/python3/dist-packages (from catboost) (1.14.0)\n",
      "Requirement already satisfied: numpy>=1.16.0 in /home/vladiant/.local/lib/python3.8/site-packages (from catboost) (1.18.5)\n",
      "Requirement already satisfied: scipy in /home/vladiant/.local/lib/python3.8/site-packages (from catboost) (1.5.3)\n",
      "Requirement already satisfied: matplotlib in /home/vladiant/.local/lib/python3.8/site-packages (from catboost) (3.3.2)\n",
      "Requirement already satisfied: python-dateutil>=2.7.3 in /usr/lib/python3/dist-packages (from pandas>=0.24.0->catboost) (2.7.3)\n",
      "Requirement already satisfied: pytz>=2017.3 in /usr/lib/python3/dist-packages (from pandas>=0.24.0->catboost) (2019.3)\n",
      "Requirement already satisfied: retrying>=1.3.3 in /home/vladiant/.local/lib/python3.8/site-packages (from plotly->catboost) (1.3.3)\n",
      "Requirement already satisfied: pillow>=6.2.0 in /home/vladiant/.local/lib/python3.8/site-packages (from matplotlib->catboost) (8.1.0)\n",
      "Requirement already satisfied: cycler>=0.10 in /home/vladiant/.local/lib/python3.8/site-packages (from matplotlib->catboost) (0.10.0)\n",
      "Requirement already satisfied: certifi>=2020.06.20 in /home/vladiant/.local/lib/python3.8/site-packages (from matplotlib->catboost) (2020.6.20)\n",
      "Requirement already satisfied: kiwisolver>=1.0.1 in /home/vladiant/.local/lib/python3.8/site-packages (from matplotlib->catboost) (1.2.0)\n",
      "Requirement already satisfied: pyparsing!=2.0.4,!=2.1.2,!=2.1.6,>=2.0.3 in /usr/lib/python3/dist-packages (from matplotlib->catboost) (2.4.6)\n"
     ]
    }
   ],
   "source": [
    "!pip3 install sklearn_pandas # 2.0.4\n",
    "!pip3 install catboost # 0.24.4"
   ]
  },
  {
   "cell_type": "code",
   "execution_count": 2,
   "metadata": {},
   "outputs": [],
   "source": [
    "import numpy as np\n",
    "import pandas as pd\n",
    "from catboost import CatBoostClassifier\n",
    "from sklearn.datasets import make_classification\n",
    "from sklearn.impute import SimpleImputer\n",
    "from sklearn.linear_model import LogisticRegression\n",
    "from sklearn.metrics import roc_auc_score\n",
    "from sklearn.model_selection import train_test_split\n",
    "from sklearn.pipeline import Pipeline\n",
    "from sklearn.preprocessing import OrdinalEncoder, StandardScaler, OneHotEncoder\n",
    "from sklearn_pandas import DataFrameMapper"
   ]
  },
  {
   "cell_type": "markdown",
   "metadata": {},
   "source": [
    "## Dataset Preparation"
   ]
  },
  {
   "cell_type": "code",
   "execution_count": 3,
   "metadata": {},
   "outputs": [],
   "source": [
    "categorical_features = ['feat_5', 'feat_6', 'feat_7', 'feat_8']\n",
    "numerical_features = ['feat_1', 'feat_2', 'feat_3', 'feat_4']"
   ]
  },
  {
   "cell_type": "code",
   "execution_count": 4,
   "metadata": {},
   "outputs": [],
   "source": [
    "X, y = make_classification(n_samples=10000,\n",
    "                          n_features=4,\n",
    "                          n_redundant=0,\n",
    "                          random_state=42,\n",
    "                          weights=[0.5])"
   ]
  },
  {
   "cell_type": "markdown",
   "metadata": {},
   "source": [
    "Add cathegorical columns"
   ]
  },
  {
   "cell_type": "code",
   "execution_count": 5,
   "metadata": {},
   "outputs": [],
   "source": [
    "for col in range(4):\n",
    "    num_classes = np.random.randint(2,10)\n",
    "    cat_col = np.random.randint(num_classes, size=X.shape[0]).reshape(-1,1)\n",
    "    X = np.hstack((X, cat_col))"
   ]
  },
  {
   "cell_type": "markdown",
   "metadata": {},
   "source": [
    "To DataFrame"
   ]
  },
  {
   "cell_type": "code",
   "execution_count": 6,
   "metadata": {},
   "outputs": [],
   "source": [
    "columns = [f'feat_{i+1}' for i in range(X.shape[1])]\n",
    "X = pd.DataFrame(X, columns=columns)\n",
    "y = pd.DataFrame(y, columns=['label'])"
   ]
  },
  {
   "cell_type": "markdown",
   "metadata": {},
   "source": [
    "Scale regressors, modify categoricals"
   ]
  },
  {
   "cell_type": "code",
   "execution_count": 7,
   "metadata": {},
   "outputs": [],
   "source": [
    "for col in numerical_features:\n",
    "    mean = np.random.randint(10, 1000)\n",
    "    std = np.random.randint(1, 100)\n",
    "    X[col] = X[col].apply(lambda x: mean + std * x).astype(int)\n",
    "    \n",
    "for col in categorical_features:\n",
    "    X[col] = X[col].apply(lambda x: f'str_{x}' if np.isnan(x) == False else x)"
   ]
  },
  {
   "cell_type": "markdown",
   "metadata": {},
   "source": [
    "Create Nans in the dataset"
   ]
  },
  {
   "cell_type": "code",
   "execution_count": 8,
   "metadata": {},
   "outputs": [],
   "source": [
    "for col in categorical_features + numerical_features:\n",
    "    X[col] = X[col].sample(frac=0.7)\n",
    "    \n",
    "df = X.merge(y, left_index=True, right_index=True)"
   ]
  },
  {
   "cell_type": "code",
   "execution_count": 9,
   "metadata": {},
   "outputs": [
    {
     "data": {
      "text/html": [
       "<div>\n",
       "<style scoped>\n",
       "    .dataframe tbody tr th:only-of-type {\n",
       "        vertical-align: middle;\n",
       "    }\n",
       "\n",
       "    .dataframe tbody tr th {\n",
       "        vertical-align: top;\n",
       "    }\n",
       "\n",
       "    .dataframe thead th {\n",
       "        text-align: right;\n",
       "    }\n",
       "</style>\n",
       "<table border=\"1\" class=\"dataframe\">\n",
       "  <thead>\n",
       "    <tr style=\"text-align: right;\">\n",
       "      <th></th>\n",
       "      <th>feat_1</th>\n",
       "      <th>feat_2</th>\n",
       "      <th>feat_3</th>\n",
       "      <th>feat_4</th>\n",
       "      <th>feat_5</th>\n",
       "      <th>feat_6</th>\n",
       "      <th>feat_7</th>\n",
       "      <th>feat_8</th>\n",
       "      <th>label</th>\n",
       "    </tr>\n",
       "  </thead>\n",
       "  <tbody>\n",
       "    <tr>\n",
       "      <th>8040</th>\n",
       "      <td>NaN</td>\n",
       "      <td>NaN</td>\n",
       "      <td>738.0</td>\n",
       "      <td>210.0</td>\n",
       "      <td>str_1.0</td>\n",
       "      <td>NaN</td>\n",
       "      <td>NaN</td>\n",
       "      <td>str_5.0</td>\n",
       "      <td>0</td>\n",
       "    </tr>\n",
       "    <tr>\n",
       "      <th>2698</th>\n",
       "      <td>NaN</td>\n",
       "      <td>779.0</td>\n",
       "      <td>689.0</td>\n",
       "      <td>260.0</td>\n",
       "      <td>str_0.0</td>\n",
       "      <td>NaN</td>\n",
       "      <td>str_0.0</td>\n",
       "      <td>str_0.0</td>\n",
       "      <td>1</td>\n",
       "    </tr>\n",
       "    <tr>\n",
       "      <th>1618</th>\n",
       "      <td>509.0</td>\n",
       "      <td>NaN</td>\n",
       "      <td>770.0</td>\n",
       "      <td>NaN</td>\n",
       "      <td>NaN</td>\n",
       "      <td>str_6.0</td>\n",
       "      <td>str_1.0</td>\n",
       "      <td>str_5.0</td>\n",
       "      <td>0</td>\n",
       "    </tr>\n",
       "  </tbody>\n",
       "</table>\n",
       "</div>"
      ],
      "text/plain": [
       "      feat_1  feat_2  feat_3  feat_4   feat_5   feat_6   feat_7   feat_8  \\\n",
       "8040     NaN     NaN   738.0   210.0  str_1.0      NaN      NaN  str_5.0   \n",
       "2698     NaN   779.0   689.0   260.0  str_0.0      NaN  str_0.0  str_0.0   \n",
       "1618   509.0     NaN   770.0     NaN      NaN  str_6.0  str_1.0  str_5.0   \n",
       "\n",
       "      label  \n",
       "8040      0  \n",
       "2698      1  \n",
       "1618      0  "
      ]
     },
     "execution_count": 9,
     "metadata": {},
     "output_type": "execute_result"
    }
   ],
   "source": [
    "df.sample(3)"
   ]
  },
  {
   "cell_type": "code",
   "execution_count": 10,
   "metadata": {},
   "outputs": [],
   "source": [
    "train_df, test_df = train_test_split(df, test_size=0.1, shuffle=False)\n",
    "X_train, y_train = train_df[categorical_features + numerical_features], train_df['label']\n",
    "X_test, y_test = test_df[categorical_features + numerical_features], test_df['label']"
   ]
  },
  {
   "cell_type": "markdown",
   "metadata": {},
   "source": [
    "## Preprocessing + Training"
   ]
  },
  {
   "cell_type": "code",
   "execution_count": 11,
   "metadata": {},
   "outputs": [],
   "source": [
    "# OrdinalEncoder(handle_unknown='use_encoded_value', unknown_value=-1)\n",
    "cat = [([c], [SimpleImputer(strategy='constant', fill_value='UNK'),\n",
    "             OrdinalEncoder()]) for c in categorical_features]"
   ]
  },
  {
   "cell_type": "code",
   "execution_count": 12,
   "metadata": {},
   "outputs": [],
   "source": [
    "num = [([n], [SimpleImputer()]) for n in numerical_features]"
   ]
  },
  {
   "cell_type": "code",
   "execution_count": 13,
   "metadata": {},
   "outputs": [],
   "source": [
    "mapper = DataFrameMapper(num + cat, df_out=True)"
   ]
  },
  {
   "cell_type": "code",
   "execution_count": 14,
   "metadata": {},
   "outputs": [],
   "source": [
    "clf = CatBoostClassifier(iterations=1000,\n",
    "                        learning_rate=0.01,\n",
    "                         metric_period=100)"
   ]
  },
  {
   "cell_type": "code",
   "execution_count": 15,
   "metadata": {},
   "outputs": [],
   "source": [
    "pipeline = Pipeline([\n",
    "    ('preprocess', mapper),\n",
    "    ('clf', clf)\n",
    "])"
   ]
  },
  {
   "cell_type": "code",
   "execution_count": 16,
   "metadata": {},
   "outputs": [
    {
     "name": "stdout",
     "output_type": "stream",
     "text": [
      "0:\tlearn: 0.6869536\ttotal: 49.9ms\tremaining: 49.9s\n",
      "100:\tlearn: 0.4355847\ttotal: 368ms\tremaining: 3.28s\n",
      "200:\tlearn: 0.3955449\ttotal: 668ms\tremaining: 2.65s\n",
      "300:\tlearn: 0.3812713\ttotal: 1.14s\tremaining: 2.65s\n",
      "400:\tlearn: 0.3738819\ttotal: 1.67s\tremaining: 2.5s\n",
      "500:\tlearn: 0.3678710\ttotal: 2.22s\tremaining: 2.21s\n",
      "600:\tlearn: 0.3634466\ttotal: 2.77s\tremaining: 1.84s\n",
      "700:\tlearn: 0.3595107\ttotal: 3.3s\tremaining: 1.41s\n",
      "800:\tlearn: 0.3558111\ttotal: 3.85s\tremaining: 956ms\n",
      "900:\tlearn: 0.3518780\ttotal: 4.31s\tremaining: 473ms\n",
      "999:\tlearn: 0.3485613\ttotal: 4.85s\tremaining: 0us\n"
     ]
    },
    {
     "data": {
      "text/plain": [
       "Pipeline(steps=[('preprocess',\n",
       "                 DataFrameMapper(df_out=True, drop_cols=[],\n",
       "                                 features=[(['feat_1'], [SimpleImputer()]),\n",
       "                                           (['feat_2'], [SimpleImputer()]),\n",
       "                                           (['feat_3'], [SimpleImputer()]),\n",
       "                                           (['feat_4'], [SimpleImputer()]),\n",
       "                                           (['feat_5'],\n",
       "                                            [SimpleImputer(fill_value='UNK',\n",
       "                                                           strategy='constant'),\n",
       "                                             OrdinalEncoder()]),\n",
       "                                           (['feat_6'],\n",
       "                                            [SimpleImputer(fill_value='UNK',\n",
       "                                                           strategy='constant'),\n",
       "                                             OrdinalEncoder()]),\n",
       "                                           (['feat_7'],\n",
       "                                            [SimpleImputer(fill_value='UNK',\n",
       "                                                           strategy='constant'),\n",
       "                                             OrdinalEncoder()]),\n",
       "                                           (['feat_8'],\n",
       "                                            [SimpleImputer(fill_value='UNK',\n",
       "                                                           strategy='constant'),\n",
       "                                             OrdinalEncoder()])])),\n",
       "                ('clf',\n",
       "                 <catboost.core.CatBoostClassifier object at 0x7fb265b19b80>)])"
      ]
     },
     "execution_count": 16,
     "metadata": {},
     "output_type": "execute_result"
    }
   ],
   "source": [
    "pipeline.fit(X_train, y_train)"
   ]
  },
  {
   "cell_type": "code",
   "execution_count": 17,
   "metadata": {},
   "outputs": [],
   "source": [
    "preprocessed_X_test = mapper.transform(X_test)"
   ]
  },
  {
   "cell_type": "code",
   "execution_count": 18,
   "metadata": {},
   "outputs": [
    {
     "data": {
      "text/html": [
       "<div>\n",
       "<style scoped>\n",
       "    .dataframe tbody tr th:only-of-type {\n",
       "        vertical-align: middle;\n",
       "    }\n",
       "\n",
       "    .dataframe tbody tr th {\n",
       "        vertical-align: top;\n",
       "    }\n",
       "\n",
       "    .dataframe thead th {\n",
       "        text-align: right;\n",
       "    }\n",
       "</style>\n",
       "<table border=\"1\" class=\"dataframe\">\n",
       "  <thead>\n",
       "    <tr style=\"text-align: right;\">\n",
       "      <th></th>\n",
       "      <th>feat_1</th>\n",
       "      <th>feat_2</th>\n",
       "      <th>feat_3</th>\n",
       "      <th>feat_4</th>\n",
       "      <th>feat_5</th>\n",
       "      <th>feat_6</th>\n",
       "      <th>feat_7</th>\n",
       "      <th>feat_8</th>\n",
       "    </tr>\n",
       "  </thead>\n",
       "  <tbody>\n",
       "    <tr>\n",
       "      <th>9000</th>\n",
       "      <td>NaN</td>\n",
       "      <td>765.0</td>\n",
       "      <td>738.0</td>\n",
       "      <td>220.0</td>\n",
       "      <td>str_1.0</td>\n",
       "      <td>str_2.0</td>\n",
       "      <td>str_0.0</td>\n",
       "      <td>str_1.0</td>\n",
       "    </tr>\n",
       "    <tr>\n",
       "      <th>9001</th>\n",
       "      <td>508.0</td>\n",
       "      <td>793.0</td>\n",
       "      <td>858.0</td>\n",
       "      <td>NaN</td>\n",
       "      <td>NaN</td>\n",
       "      <td>str_3.0</td>\n",
       "      <td>NaN</td>\n",
       "      <td>str_6.0</td>\n",
       "    </tr>\n",
       "    <tr>\n",
       "      <th>9002</th>\n",
       "      <td>511.0</td>\n",
       "      <td>819.0</td>\n",
       "      <td>NaN</td>\n",
       "      <td>250.0</td>\n",
       "      <td>str_1.0</td>\n",
       "      <td>NaN</td>\n",
       "      <td>NaN</td>\n",
       "      <td>str_1.0</td>\n",
       "    </tr>\n",
       "    <tr>\n",
       "      <th>9003</th>\n",
       "      <td>510.0</td>\n",
       "      <td>775.0</td>\n",
       "      <td>738.0</td>\n",
       "      <td>216.0</td>\n",
       "      <td>str_0.0</td>\n",
       "      <td>NaN</td>\n",
       "      <td>str_0.0</td>\n",
       "      <td>str_0.0</td>\n",
       "    </tr>\n",
       "    <tr>\n",
       "      <th>9004</th>\n",
       "      <td>505.0</td>\n",
       "      <td>809.0</td>\n",
       "      <td>760.0</td>\n",
       "      <td>269.0</td>\n",
       "      <td>str_1.0</td>\n",
       "      <td>str_4.0</td>\n",
       "      <td>str_1.0</td>\n",
       "      <td>NaN</td>\n",
       "    </tr>\n",
       "  </tbody>\n",
       "</table>\n",
       "</div>"
      ],
      "text/plain": [
       "      feat_1  feat_2  feat_3  feat_4   feat_5   feat_6   feat_7   feat_8\n",
       "9000     NaN   765.0   738.0   220.0  str_1.0  str_2.0  str_0.0  str_1.0\n",
       "9001   508.0   793.0   858.0     NaN      NaN  str_3.0      NaN  str_6.0\n",
       "9002   511.0   819.0     NaN   250.0  str_1.0      NaN      NaN  str_1.0\n",
       "9003   510.0   775.0   738.0   216.0  str_0.0      NaN  str_0.0  str_0.0\n",
       "9004   505.0   809.0   760.0   269.0  str_1.0  str_4.0  str_1.0      NaN"
      ]
     },
     "execution_count": 18,
     "metadata": {},
     "output_type": "execute_result"
    }
   ],
   "source": [
    "X_test[numerical_features+categorical_features].head()"
   ]
  },
  {
   "cell_type": "code",
   "execution_count": 19,
   "metadata": {},
   "outputs": [
    {
     "data": {
      "text/html": [
       "<div>\n",
       "<style scoped>\n",
       "    .dataframe tbody tr th:only-of-type {\n",
       "        vertical-align: middle;\n",
       "    }\n",
       "\n",
       "    .dataframe tbody tr th {\n",
       "        vertical-align: top;\n",
       "    }\n",
       "\n",
       "    .dataframe thead th {\n",
       "        text-align: right;\n",
       "    }\n",
       "</style>\n",
       "<table border=\"1\" class=\"dataframe\">\n",
       "  <thead>\n",
       "    <tr style=\"text-align: right;\">\n",
       "      <th></th>\n",
       "      <th>feat_1</th>\n",
       "      <th>feat_2</th>\n",
       "      <th>feat_3</th>\n",
       "      <th>feat_4</th>\n",
       "      <th>feat_5</th>\n",
       "      <th>feat_6</th>\n",
       "      <th>feat_7</th>\n",
       "      <th>feat_8</th>\n",
       "    </tr>\n",
       "  </thead>\n",
       "  <tbody>\n",
       "    <tr>\n",
       "      <th>9000</th>\n",
       "      <td>507.493079</td>\n",
       "      <td>765.0</td>\n",
       "      <td>738.000000</td>\n",
       "      <td>220.000000</td>\n",
       "      <td>2.0</td>\n",
       "      <td>3.0</td>\n",
       "      <td>1.0</td>\n",
       "      <td>2.0</td>\n",
       "    </tr>\n",
       "    <tr>\n",
       "      <th>9001</th>\n",
       "      <td>508.000000</td>\n",
       "      <td>793.0</td>\n",
       "      <td>858.000000</td>\n",
       "      <td>246.424972</td>\n",
       "      <td>0.0</td>\n",
       "      <td>4.0</td>\n",
       "      <td>0.0</td>\n",
       "      <td>7.0</td>\n",
       "    </tr>\n",
       "    <tr>\n",
       "      <th>9002</th>\n",
       "      <td>511.000000</td>\n",
       "      <td>819.0</td>\n",
       "      <td>775.584645</td>\n",
       "      <td>250.000000</td>\n",
       "      <td>2.0</td>\n",
       "      <td>0.0</td>\n",
       "      <td>0.0</td>\n",
       "      <td>2.0</td>\n",
       "    </tr>\n",
       "    <tr>\n",
       "      <th>9003</th>\n",
       "      <td>510.000000</td>\n",
       "      <td>775.0</td>\n",
       "      <td>738.000000</td>\n",
       "      <td>216.000000</td>\n",
       "      <td>1.0</td>\n",
       "      <td>0.0</td>\n",
       "      <td>1.0</td>\n",
       "      <td>1.0</td>\n",
       "    </tr>\n",
       "    <tr>\n",
       "      <th>9004</th>\n",
       "      <td>505.000000</td>\n",
       "      <td>809.0</td>\n",
       "      <td>760.000000</td>\n",
       "      <td>269.000000</td>\n",
       "      <td>2.0</td>\n",
       "      <td>5.0</td>\n",
       "      <td>2.0</td>\n",
       "      <td>0.0</td>\n",
       "    </tr>\n",
       "  </tbody>\n",
       "</table>\n",
       "</div>"
      ],
      "text/plain": [
       "          feat_1  feat_2      feat_3      feat_4  feat_5  feat_6  feat_7  \\\n",
       "9000  507.493079   765.0  738.000000  220.000000     2.0     3.0     1.0   \n",
       "9001  508.000000   793.0  858.000000  246.424972     0.0     4.0     0.0   \n",
       "9002  511.000000   819.0  775.584645  250.000000     2.0     0.0     0.0   \n",
       "9003  510.000000   775.0  738.000000  216.000000     1.0     0.0     1.0   \n",
       "9004  505.000000   809.0  760.000000  269.000000     2.0     5.0     2.0   \n",
       "\n",
       "      feat_8  \n",
       "9000     2.0  \n",
       "9001     7.0  \n",
       "9002     2.0  \n",
       "9003     1.0  \n",
       "9004     0.0  "
      ]
     },
     "execution_count": 19,
     "metadata": {},
     "output_type": "execute_result"
    }
   ],
   "source": [
    "preprocessed_X_test[numerical_features+categorical_features].head()"
   ]
  },
  {
   "cell_type": "code",
   "execution_count": 20,
   "metadata": {},
   "outputs": [],
   "source": [
    "from joblib import dump, load\n",
    "dump(pipeline, 'params/pipeline.joblib')\n",
    "test_df.to_csv('params/test_df.csv')"
   ]
  },
  {
   "cell_type": "code",
   "execution_count": 21,
   "metadata": {},
   "outputs": [],
   "source": [
    "def evaluation(pipeline, X, y):\n",
    "    y_predit_proba = pipeline.predict_proba(X)[:, 1]\n",
    "    return {\n",
    "        'auc': roc_auc_score(y, y_predit_proba)\n",
    "    }"
   ]
  },
  {
   "cell_type": "code",
   "execution_count": 22,
   "metadata": {},
   "outputs": [
    {
     "data": {
      "text/plain": [
       "{'auc': 0.9268142040296534}"
      ]
     },
     "execution_count": 22,
     "metadata": {},
     "output_type": "execute_result"
    }
   ],
   "source": [
    "evaluation(pipeline, X_train, y_train)"
   ]
  },
  {
   "cell_type": "code",
   "execution_count": 23,
   "metadata": {},
   "outputs": [
    {
     "data": {
      "text/plain": [
       "{'auc': 0.9085349236121131}"
      ]
     },
     "execution_count": 23,
     "metadata": {},
     "output_type": "execute_result"
    }
   ],
   "source": [
    "evaluation(pipeline, X_test, y_test)"
   ]
  },
  {
   "cell_type": "markdown",
   "metadata": {},
   "source": [
    "## Alternative"
   ]
  },
  {
   "cell_type": "code",
   "execution_count": 24,
   "metadata": {},
   "outputs": [],
   "source": [
    "cat = [([c], [SimpleImputer(strategy='constant', fill_value='UNK'),\n",
    "             OneHotEncoder()]) for c in categorical_features]"
   ]
  },
  {
   "cell_type": "code",
   "execution_count": 25,
   "metadata": {},
   "outputs": [],
   "source": [
    "num = [([n], [SimpleImputer(), StandardScaler()]) for n in numerical_features]"
   ]
  },
  {
   "cell_type": "code",
   "execution_count": 26,
   "metadata": {},
   "outputs": [],
   "source": [
    "mapper = DataFrameMapper(num + cat, df_out=True)"
   ]
  },
  {
   "cell_type": "code",
   "execution_count": 27,
   "metadata": {},
   "outputs": [],
   "source": [
    "clf = LogisticRegression()"
   ]
  },
  {
   "cell_type": "code",
   "execution_count": 28,
   "metadata": {},
   "outputs": [],
   "source": [
    "pipeline = Pipeline([\n",
    "    ('preprocess', mapper),\n",
    "    ('clf', clf)\n",
    "])"
   ]
  },
  {
   "cell_type": "code",
   "execution_count": 29,
   "metadata": {},
   "outputs": [
    {
     "data": {
      "text/plain": [
       "Pipeline(steps=[('preprocess',\n",
       "                 DataFrameMapper(df_out=True, drop_cols=[],\n",
       "                                 features=[(['feat_1'],\n",
       "                                            [SimpleImputer(),\n",
       "                                             StandardScaler()]),\n",
       "                                           (['feat_2'],\n",
       "                                            [SimpleImputer(),\n",
       "                                             StandardScaler()]),\n",
       "                                           (['feat_3'],\n",
       "                                            [SimpleImputer(),\n",
       "                                             StandardScaler()]),\n",
       "                                           (['feat_4'],\n",
       "                                            [SimpleImputer(),\n",
       "                                             StandardScaler()]),\n",
       "                                           (['feat_5'],\n",
       "                                            [SimpleImputer(fill_value='UNK',\n",
       "                                                           strategy='constant'),\n",
       "                                             OneHotEncoder()]),\n",
       "                                           (['feat_6'],\n",
       "                                            [SimpleImputer(fill_value='UNK',\n",
       "                                                           strategy='constant'),\n",
       "                                             OneHotEncoder()]),\n",
       "                                           (['feat_7'],\n",
       "                                            [SimpleImputer(fill_value='UNK',\n",
       "                                                           strategy='constant'),\n",
       "                                             OneHotEncoder()]),\n",
       "                                           (['feat_8'],\n",
       "                                            [SimpleImputer(fill_value='UNK',\n",
       "                                                           strategy='constant'),\n",
       "                                             OneHotEncoder()])])),\n",
       "                ('clf', LogisticRegression())])"
      ]
     },
     "execution_count": 29,
     "metadata": {},
     "output_type": "execute_result"
    }
   ],
   "source": [
    "pipeline.fit(X_train, y_train)"
   ]
  },
  {
   "cell_type": "code",
   "execution_count": 30,
   "metadata": {},
   "outputs": [],
   "source": [
    "preprocessed_X_test = mapper.transform(X_test)"
   ]
  },
  {
   "cell_type": "code",
   "execution_count": 31,
   "metadata": {},
   "outputs": [
    {
     "data": {
      "text/html": [
       "<div>\n",
       "<style scoped>\n",
       "    .dataframe tbody tr th:only-of-type {\n",
       "        vertical-align: middle;\n",
       "    }\n",
       "\n",
       "    .dataframe tbody tr th {\n",
       "        vertical-align: top;\n",
       "    }\n",
       "\n",
       "    .dataframe thead th {\n",
       "        text-align: right;\n",
       "    }\n",
       "</style>\n",
       "<table border=\"1\" class=\"dataframe\">\n",
       "  <thead>\n",
       "    <tr style=\"text-align: right;\">\n",
       "      <th></th>\n",
       "      <th>9000</th>\n",
       "      <th>9001</th>\n",
       "      <th>9002</th>\n",
       "      <th>9003</th>\n",
       "      <th>9004</th>\n",
       "    </tr>\n",
       "  </thead>\n",
       "  <tbody>\n",
       "    <tr>\n",
       "      <th>feat_1</th>\n",
       "      <td>NaN</td>\n",
       "      <td>508.0</td>\n",
       "      <td>511.0</td>\n",
       "      <td>510.0</td>\n",
       "      <td>505.0</td>\n",
       "    </tr>\n",
       "    <tr>\n",
       "      <th>feat_2</th>\n",
       "      <td>765.0</td>\n",
       "      <td>793.0</td>\n",
       "      <td>819.0</td>\n",
       "      <td>775.0</td>\n",
       "      <td>809.0</td>\n",
       "    </tr>\n",
       "    <tr>\n",
       "      <th>feat_3</th>\n",
       "      <td>738.0</td>\n",
       "      <td>858.0</td>\n",
       "      <td>NaN</td>\n",
       "      <td>738.0</td>\n",
       "      <td>760.0</td>\n",
       "    </tr>\n",
       "    <tr>\n",
       "      <th>feat_4</th>\n",
       "      <td>220.0</td>\n",
       "      <td>NaN</td>\n",
       "      <td>250.0</td>\n",
       "      <td>216.0</td>\n",
       "      <td>269.0</td>\n",
       "    </tr>\n",
       "    <tr>\n",
       "      <th>feat_5</th>\n",
       "      <td>str_1.0</td>\n",
       "      <td>NaN</td>\n",
       "      <td>str_1.0</td>\n",
       "      <td>str_0.0</td>\n",
       "      <td>str_1.0</td>\n",
       "    </tr>\n",
       "    <tr>\n",
       "      <th>feat_6</th>\n",
       "      <td>str_2.0</td>\n",
       "      <td>str_3.0</td>\n",
       "      <td>NaN</td>\n",
       "      <td>NaN</td>\n",
       "      <td>str_4.0</td>\n",
       "    </tr>\n",
       "    <tr>\n",
       "      <th>feat_7</th>\n",
       "      <td>str_0.0</td>\n",
       "      <td>NaN</td>\n",
       "      <td>NaN</td>\n",
       "      <td>str_0.0</td>\n",
       "      <td>str_1.0</td>\n",
       "    </tr>\n",
       "    <tr>\n",
       "      <th>feat_8</th>\n",
       "      <td>str_1.0</td>\n",
       "      <td>str_6.0</td>\n",
       "      <td>str_1.0</td>\n",
       "      <td>str_0.0</td>\n",
       "      <td>NaN</td>\n",
       "    </tr>\n",
       "  </tbody>\n",
       "</table>\n",
       "</div>"
      ],
      "text/plain": [
       "           9000     9001     9002     9003     9004\n",
       "feat_1      NaN    508.0    511.0    510.0    505.0\n",
       "feat_2    765.0    793.0    819.0    775.0    809.0\n",
       "feat_3    738.0    858.0      NaN    738.0    760.0\n",
       "feat_4    220.0      NaN    250.0    216.0    269.0\n",
       "feat_5  str_1.0      NaN  str_1.0  str_0.0  str_1.0\n",
       "feat_6  str_2.0  str_3.0      NaN      NaN  str_4.0\n",
       "feat_7  str_0.0      NaN      NaN  str_0.0  str_1.0\n",
       "feat_8  str_1.0  str_6.0  str_1.0  str_0.0      NaN"
      ]
     },
     "execution_count": 31,
     "metadata": {},
     "output_type": "execute_result"
    }
   ],
   "source": [
    "X_test[numerical_features+categorical_features].head().T"
   ]
  },
  {
   "cell_type": "code",
   "execution_count": 32,
   "metadata": {},
   "outputs": [
    {
     "data": {
      "text/html": [
       "<div>\n",
       "<style scoped>\n",
       "    .dataframe tbody tr th:only-of-type {\n",
       "        vertical-align: middle;\n",
       "    }\n",
       "\n",
       "    .dataframe tbody tr th {\n",
       "        vertical-align: top;\n",
       "    }\n",
       "\n",
       "    .dataframe thead th {\n",
       "        text-align: right;\n",
       "    }\n",
       "</style>\n",
       "<table border=\"1\" class=\"dataframe\">\n",
       "  <thead>\n",
       "    <tr style=\"text-align: right;\">\n",
       "      <th></th>\n",
       "      <th>9000</th>\n",
       "      <th>9001</th>\n",
       "      <th>9002</th>\n",
       "      <th>9003</th>\n",
       "      <th>9004</th>\n",
       "    </tr>\n",
       "  </thead>\n",
       "  <tbody>\n",
       "    <tr>\n",
       "      <th>feat_1</th>\n",
       "      <td>2.660480e-14</td>\n",
       "      <td>2.372577e-01</td>\n",
       "      <td>1.641368</td>\n",
       "      <td>1.173331</td>\n",
       "      <td>-1.166852</td>\n",
       "    </tr>\n",
       "    <tr>\n",
       "      <th>feat_2</th>\n",
       "      <td>-1.104785e+00</td>\n",
       "      <td>2.743617e-01</td>\n",
       "      <td>1.554998</td>\n",
       "      <td>-0.612233</td>\n",
       "      <td>1.062445</td>\n",
       "    </tr>\n",
       "    <tr>\n",
       "      <th>feat_3</th>\n",
       "      <td>-8.397372e-01</td>\n",
       "      <td>1.841370e+00</td>\n",
       "      <td>0.000000</td>\n",
       "      <td>-0.839737</td>\n",
       "      <td>-0.348201</td>\n",
       "    </tr>\n",
       "    <tr>\n",
       "      <th>feat_4</th>\n",
       "      <td>-9.774131e-01</td>\n",
       "      <td>-1.051269e-15</td>\n",
       "      <td>0.132234</td>\n",
       "      <td>-1.125366</td>\n",
       "      <td>0.835010</td>\n",
       "    </tr>\n",
       "    <tr>\n",
       "      <th>feat_5_x0_UNK</th>\n",
       "      <td>0.000000e+00</td>\n",
       "      <td>1.000000e+00</td>\n",
       "      <td>0.000000</td>\n",
       "      <td>0.000000</td>\n",
       "      <td>0.000000</td>\n",
       "    </tr>\n",
       "    <tr>\n",
       "      <th>feat_5_x0_str_0.0</th>\n",
       "      <td>0.000000e+00</td>\n",
       "      <td>0.000000e+00</td>\n",
       "      <td>0.000000</td>\n",
       "      <td>1.000000</td>\n",
       "      <td>0.000000</td>\n",
       "    </tr>\n",
       "    <tr>\n",
       "      <th>feat_5_x0_str_1.0</th>\n",
       "      <td>1.000000e+00</td>\n",
       "      <td>0.000000e+00</td>\n",
       "      <td>1.000000</td>\n",
       "      <td>0.000000</td>\n",
       "      <td>1.000000</td>\n",
       "    </tr>\n",
       "    <tr>\n",
       "      <th>feat_6_x0_UNK</th>\n",
       "      <td>0.000000e+00</td>\n",
       "      <td>0.000000e+00</td>\n",
       "      <td>1.000000</td>\n",
       "      <td>1.000000</td>\n",
       "      <td>0.000000</td>\n",
       "    </tr>\n",
       "    <tr>\n",
       "      <th>feat_6_x0_str_0.0</th>\n",
       "      <td>0.000000e+00</td>\n",
       "      <td>0.000000e+00</td>\n",
       "      <td>0.000000</td>\n",
       "      <td>0.000000</td>\n",
       "      <td>0.000000</td>\n",
       "    </tr>\n",
       "    <tr>\n",
       "      <th>feat_6_x0_str_1.0</th>\n",
       "      <td>0.000000e+00</td>\n",
       "      <td>0.000000e+00</td>\n",
       "      <td>0.000000</td>\n",
       "      <td>0.000000</td>\n",
       "      <td>0.000000</td>\n",
       "    </tr>\n",
       "    <tr>\n",
       "      <th>feat_6_x0_str_2.0</th>\n",
       "      <td>1.000000e+00</td>\n",
       "      <td>0.000000e+00</td>\n",
       "      <td>0.000000</td>\n",
       "      <td>0.000000</td>\n",
       "      <td>0.000000</td>\n",
       "    </tr>\n",
       "    <tr>\n",
       "      <th>feat_6_x0_str_3.0</th>\n",
       "      <td>0.000000e+00</td>\n",
       "      <td>1.000000e+00</td>\n",
       "      <td>0.000000</td>\n",
       "      <td>0.000000</td>\n",
       "      <td>0.000000</td>\n",
       "    </tr>\n",
       "    <tr>\n",
       "      <th>feat_6_x0_str_4.0</th>\n",
       "      <td>0.000000e+00</td>\n",
       "      <td>0.000000e+00</td>\n",
       "      <td>0.000000</td>\n",
       "      <td>0.000000</td>\n",
       "      <td>1.000000</td>\n",
       "    </tr>\n",
       "    <tr>\n",
       "      <th>feat_6_x0_str_5.0</th>\n",
       "      <td>0.000000e+00</td>\n",
       "      <td>0.000000e+00</td>\n",
       "      <td>0.000000</td>\n",
       "      <td>0.000000</td>\n",
       "      <td>0.000000</td>\n",
       "    </tr>\n",
       "    <tr>\n",
       "      <th>feat_6_x0_str_6.0</th>\n",
       "      <td>0.000000e+00</td>\n",
       "      <td>0.000000e+00</td>\n",
       "      <td>0.000000</td>\n",
       "      <td>0.000000</td>\n",
       "      <td>0.000000</td>\n",
       "    </tr>\n",
       "    <tr>\n",
       "      <th>feat_6_x0_str_7.0</th>\n",
       "      <td>0.000000e+00</td>\n",
       "      <td>0.000000e+00</td>\n",
       "      <td>0.000000</td>\n",
       "      <td>0.000000</td>\n",
       "      <td>0.000000</td>\n",
       "    </tr>\n",
       "    <tr>\n",
       "      <th>feat_6_x0_str_8.0</th>\n",
       "      <td>0.000000e+00</td>\n",
       "      <td>0.000000e+00</td>\n",
       "      <td>0.000000</td>\n",
       "      <td>0.000000</td>\n",
       "      <td>0.000000</td>\n",
       "    </tr>\n",
       "    <tr>\n",
       "      <th>feat_7_x0_UNK</th>\n",
       "      <td>0.000000e+00</td>\n",
       "      <td>1.000000e+00</td>\n",
       "      <td>1.000000</td>\n",
       "      <td>0.000000</td>\n",
       "      <td>0.000000</td>\n",
       "    </tr>\n",
       "    <tr>\n",
       "      <th>feat_7_x0_str_0.0</th>\n",
       "      <td>1.000000e+00</td>\n",
       "      <td>0.000000e+00</td>\n",
       "      <td>0.000000</td>\n",
       "      <td>1.000000</td>\n",
       "      <td>0.000000</td>\n",
       "    </tr>\n",
       "    <tr>\n",
       "      <th>feat_7_x0_str_1.0</th>\n",
       "      <td>0.000000e+00</td>\n",
       "      <td>0.000000e+00</td>\n",
       "      <td>0.000000</td>\n",
       "      <td>0.000000</td>\n",
       "      <td>1.000000</td>\n",
       "    </tr>\n",
       "    <tr>\n",
       "      <th>feat_8_x0_UNK</th>\n",
       "      <td>0.000000e+00</td>\n",
       "      <td>0.000000e+00</td>\n",
       "      <td>0.000000</td>\n",
       "      <td>0.000000</td>\n",
       "      <td>1.000000</td>\n",
       "    </tr>\n",
       "    <tr>\n",
       "      <th>feat_8_x0_str_0.0</th>\n",
       "      <td>0.000000e+00</td>\n",
       "      <td>0.000000e+00</td>\n",
       "      <td>0.000000</td>\n",
       "      <td>1.000000</td>\n",
       "      <td>0.000000</td>\n",
       "    </tr>\n",
       "    <tr>\n",
       "      <th>feat_8_x0_str_1.0</th>\n",
       "      <td>1.000000e+00</td>\n",
       "      <td>0.000000e+00</td>\n",
       "      <td>1.000000</td>\n",
       "      <td>0.000000</td>\n",
       "      <td>0.000000</td>\n",
       "    </tr>\n",
       "    <tr>\n",
       "      <th>feat_8_x0_str_2.0</th>\n",
       "      <td>0.000000e+00</td>\n",
       "      <td>0.000000e+00</td>\n",
       "      <td>0.000000</td>\n",
       "      <td>0.000000</td>\n",
       "      <td>0.000000</td>\n",
       "    </tr>\n",
       "    <tr>\n",
       "      <th>feat_8_x0_str_3.0</th>\n",
       "      <td>0.000000e+00</td>\n",
       "      <td>0.000000e+00</td>\n",
       "      <td>0.000000</td>\n",
       "      <td>0.000000</td>\n",
       "      <td>0.000000</td>\n",
       "    </tr>\n",
       "    <tr>\n",
       "      <th>feat_8_x0_str_4.0</th>\n",
       "      <td>0.000000e+00</td>\n",
       "      <td>0.000000e+00</td>\n",
       "      <td>0.000000</td>\n",
       "      <td>0.000000</td>\n",
       "      <td>0.000000</td>\n",
       "    </tr>\n",
       "    <tr>\n",
       "      <th>feat_8_x0_str_5.0</th>\n",
       "      <td>0.000000e+00</td>\n",
       "      <td>0.000000e+00</td>\n",
       "      <td>0.000000</td>\n",
       "      <td>0.000000</td>\n",
       "      <td>0.000000</td>\n",
       "    </tr>\n",
       "    <tr>\n",
       "      <th>feat_8_x0_str_6.0</th>\n",
       "      <td>0.000000e+00</td>\n",
       "      <td>1.000000e+00</td>\n",
       "      <td>0.000000</td>\n",
       "      <td>0.000000</td>\n",
       "      <td>0.000000</td>\n",
       "    </tr>\n",
       "    <tr>\n",
       "      <th>feat_8_x0_str_7.0</th>\n",
       "      <td>0.000000e+00</td>\n",
       "      <td>0.000000e+00</td>\n",
       "      <td>0.000000</td>\n",
       "      <td>0.000000</td>\n",
       "      <td>0.000000</td>\n",
       "    </tr>\n",
       "  </tbody>\n",
       "</table>\n",
       "</div>"
      ],
      "text/plain": [
       "                           9000          9001      9002      9003      9004\n",
       "feat_1             2.660480e-14  2.372577e-01  1.641368  1.173331 -1.166852\n",
       "feat_2            -1.104785e+00  2.743617e-01  1.554998 -0.612233  1.062445\n",
       "feat_3            -8.397372e-01  1.841370e+00  0.000000 -0.839737 -0.348201\n",
       "feat_4            -9.774131e-01 -1.051269e-15  0.132234 -1.125366  0.835010\n",
       "feat_5_x0_UNK      0.000000e+00  1.000000e+00  0.000000  0.000000  0.000000\n",
       "feat_5_x0_str_0.0  0.000000e+00  0.000000e+00  0.000000  1.000000  0.000000\n",
       "feat_5_x0_str_1.0  1.000000e+00  0.000000e+00  1.000000  0.000000  1.000000\n",
       "feat_6_x0_UNK      0.000000e+00  0.000000e+00  1.000000  1.000000  0.000000\n",
       "feat_6_x0_str_0.0  0.000000e+00  0.000000e+00  0.000000  0.000000  0.000000\n",
       "feat_6_x0_str_1.0  0.000000e+00  0.000000e+00  0.000000  0.000000  0.000000\n",
       "feat_6_x0_str_2.0  1.000000e+00  0.000000e+00  0.000000  0.000000  0.000000\n",
       "feat_6_x0_str_3.0  0.000000e+00  1.000000e+00  0.000000  0.000000  0.000000\n",
       "feat_6_x0_str_4.0  0.000000e+00  0.000000e+00  0.000000  0.000000  1.000000\n",
       "feat_6_x0_str_5.0  0.000000e+00  0.000000e+00  0.000000  0.000000  0.000000\n",
       "feat_6_x0_str_6.0  0.000000e+00  0.000000e+00  0.000000  0.000000  0.000000\n",
       "feat_6_x0_str_7.0  0.000000e+00  0.000000e+00  0.000000  0.000000  0.000000\n",
       "feat_6_x0_str_8.0  0.000000e+00  0.000000e+00  0.000000  0.000000  0.000000\n",
       "feat_7_x0_UNK      0.000000e+00  1.000000e+00  1.000000  0.000000  0.000000\n",
       "feat_7_x0_str_0.0  1.000000e+00  0.000000e+00  0.000000  1.000000  0.000000\n",
       "feat_7_x0_str_1.0  0.000000e+00  0.000000e+00  0.000000  0.000000  1.000000\n",
       "feat_8_x0_UNK      0.000000e+00  0.000000e+00  0.000000  0.000000  1.000000\n",
       "feat_8_x0_str_0.0  0.000000e+00  0.000000e+00  0.000000  1.000000  0.000000\n",
       "feat_8_x0_str_1.0  1.000000e+00  0.000000e+00  1.000000  0.000000  0.000000\n",
       "feat_8_x0_str_2.0  0.000000e+00  0.000000e+00  0.000000  0.000000  0.000000\n",
       "feat_8_x0_str_3.0  0.000000e+00  0.000000e+00  0.000000  0.000000  0.000000\n",
       "feat_8_x0_str_4.0  0.000000e+00  0.000000e+00  0.000000  0.000000  0.000000\n",
       "feat_8_x0_str_5.0  0.000000e+00  0.000000e+00  0.000000  0.000000  0.000000\n",
       "feat_8_x0_str_6.0  0.000000e+00  1.000000e+00  0.000000  0.000000  0.000000\n",
       "feat_8_x0_str_7.0  0.000000e+00  0.000000e+00  0.000000  0.000000  0.000000"
      ]
     },
     "execution_count": 32,
     "metadata": {},
     "output_type": "execute_result"
    }
   ],
   "source": [
    "preprocessed_X_test.head().T"
   ]
  },
  {
   "cell_type": "code",
   "execution_count": 33,
   "metadata": {},
   "outputs": [
    {
     "data": {
      "text/plain": [
       "{'auc': 0.8775138419673723}"
      ]
     },
     "execution_count": 33,
     "metadata": {},
     "output_type": "execute_result"
    }
   ],
   "source": [
    "evaluation(pipeline, X_train, y_train)"
   ]
  },
  {
   "cell_type": "code",
   "execution_count": 34,
   "metadata": {},
   "outputs": [
    {
     "data": {
      "text/plain": [
       "{'auc': 0.8814184260728771}"
      ]
     },
     "execution_count": 34,
     "metadata": {},
     "output_type": "execute_result"
    }
   ],
   "source": [
    "evaluation(pipeline, X_test, y_test)"
   ]
  },
  {
   "cell_type": "code",
   "execution_count": null,
   "metadata": {},
   "outputs": [],
   "source": []
  }
 ],
 "metadata": {
  "kernelspec": {
   "display_name": "Python 3",
   "language": "python",
   "name": "python3"
  },
  "language_info": {
   "codemirror_mode": {
    "name": "ipython",
    "version": 3
   },
   "file_extension": ".py",
   "mimetype": "text/x-python",
   "name": "python",
   "nbconvert_exporter": "python",
   "pygments_lexer": "ipython3",
   "version": "3.8.5"
  }
 },
 "nbformat": 4,
 "nbformat_minor": 4
}
