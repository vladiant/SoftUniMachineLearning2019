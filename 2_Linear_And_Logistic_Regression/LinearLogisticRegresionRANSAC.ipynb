{
  "nbformat": 4,
  "nbformat_minor": 0,
  "metadata": {
    "colab": {
      "name": "[SoftUni][ML]2LinearLogisticRegresionRANSAC.ipynb",
      "provenance": [],
      "collapsed_sections": [],
      "include_colab_link": true
    },
    "kernelspec": {
      "name": "python3",
      "display_name": "Python 3"
    }
  },
  "cells": [
    {
      "cell_type": "markdown",
      "metadata": {
        "id": "view-in-github",
        "colab_type": "text"
      },
      "source": [
        "<a href=\"https://colab.research.google.com/github/vladiant/SoftUniMachineLearning2019/blob/master/2_Linear_And_Logistic_Regression/LinearLogisticRegresionRANSAC.ipynb\" target=\"_parent\"><img src=\"https://colab.research.google.com/assets/colab-badge.svg\" alt=\"Open In Colab\"/></a>"
      ]
    },
    {
      "cell_type": "code",
      "metadata": {
        "id": "wORux7GVGny2"
      },
      "source": [
        "import numpy as np\n",
        "import pandas as pd\n",
        "from sklearn.linear_model import LinearRegression, RANSACRegressor"
      ],
      "execution_count": null,
      "outputs": []
    },
    {
      "cell_type": "code",
      "metadata": {
        "id": "KN5Ly-EXHBe1"
      },
      "source": [
        "housing_data = pd.read_fwf(\"https://archive.ics.uci.edu/ml/machine-learning-databases/housing/housing.data\", header=None)"
      ],
      "execution_count": null,
      "outputs": []
    },
    {
      "cell_type": "code",
      "metadata": {
        "id": "ZHEu0lo1HEr7"
      },
      "source": [
        "housing_data.columns =[\"crime_rate\", \"zoned_land\", \"industry\", \"bounds_river\", \"nox_conc\", \"rooms\", \"age\", \"distance\", \"highways\", \"tax\", \"pt_ratio\", \"b_estimator\", \"pop_stat\", \"price\"]"
      ],
      "execution_count": null,
      "outputs": []
    },
    {
      "cell_type": "code",
      "metadata": {
        "id": "BRxPmfJoHOgn"
      },
      "source": [
        "housing_data_input = housing_data.drop('price', axis=1)\n",
        "housing_data_output = housing_data.price"
      ],
      "execution_count": null,
      "outputs": []
    },
    {
      "cell_type": "code",
      "metadata": {
        "id": "oZyYk7yGKGuC",
        "colab": {
          "base_uri": "https://localhost:8080/",
          "height": 34
        },
        "outputId": "66a09d01-6583-45d5-d075-e3d8676e9337"
      },
      "source": [
        "model = LinearRegression()\n",
        "model.fit(housing_data_input, housing_data_output)"
      ],
      "execution_count": null,
      "outputs": [
        {
          "output_type": "execute_result",
          "data": {
            "text/plain": [
              "LinearRegression(copy_X=True, fit_intercept=True, n_jobs=None, normalize=False)"
            ]
          },
          "metadata": {
            "tags": []
          },
          "execution_count": 27
        }
      ]
    },
    {
      "cell_type": "code",
      "metadata": {
        "id": "tYLC-MgwKQvp",
        "colab": {
          "base_uri": "https://localhost:8080/",
          "height": 34
        },
        "outputId": "83be525a-dbb2-4cfb-adc5-7ce937a04fd5"
      },
      "source": [
        "model.score(housing_data_input, housing_data_output)"
      ],
      "execution_count": null,
      "outputs": [
        {
          "output_type": "execute_result",
          "data": {
            "text/plain": [
              "0.7198065414937174"
            ]
          },
          "metadata": {
            "tags": []
          },
          "execution_count": 28
        }
      ]
    },
    {
      "cell_type": "code",
      "metadata": {
        "id": "y0dw7IDXHYf_"
      },
      "source": [
        "ransac = RANSACRegressor(LinearRegression(), min_samples=50, max_trials=100, residual_threshold=5.0)"
      ],
      "execution_count": null,
      "outputs": []
    },
    {
      "cell_type": "code",
      "metadata": {
        "id": "n2XkN2LDHtE8",
        "colab": {
          "base_uri": "https://localhost:8080/",
          "height": 119
        },
        "outputId": "732cdcd1-5da9-4f79-d6e6-f19b6c0d3574"
      },
      "source": [
        "ransac.fit(housing_data_input, housing_data_output)"
      ],
      "execution_count": null,
      "outputs": [
        {
          "output_type": "execute_result",
          "data": {
            "text/plain": [
              "RANSACRegressor(base_estimator=LinearRegression(copy_X=True, fit_intercept=True,\n",
              "                                                n_jobs=None, normalize=False),\n",
              "                is_data_valid=None, is_model_valid=None, loss='absolute_loss',\n",
              "                max_skips=inf, max_trials=100, min_samples=50,\n",
              "                random_state=None, residual_threshold=5.0, stop_n_inliers=inf,\n",
              "                stop_probability=0.99, stop_score=inf)"
            ]
          },
          "metadata": {
            "tags": []
          },
          "execution_count": 8
        }
      ]
    },
    {
      "cell_type": "code",
      "metadata": {
        "id": "FsoQEZ2MH1VK"
      },
      "source": [
        "inliers = housing_data_input[ransac.inlier_mask_]\n",
        "outliers = housing_data_input[~ransac.inlier_mask_]"
      ],
      "execution_count": null,
      "outputs": []
    },
    {
      "cell_type": "code",
      "metadata": {
        "id": "qSta6OzHIM88",
        "colab": {
          "base_uri": "https://localhost:8080/",
          "height": 34
        },
        "outputId": "10fa19ee-d86e-4ab5-ceab-1085fef76665"
      },
      "source": [
        "print(ransac.score(inliers, housing_data_output[ransac.inlier_mask_]))"
      ],
      "execution_count": null,
      "outputs": [
        {
          "output_type": "stream",
          "text": [
            "0.9024076494298344\n"
          ],
          "name": "stdout"
        }
      ]
    },
    {
      "cell_type": "code",
      "metadata": {
        "id": "KAEcwOf7IuMk",
        "colab": {
          "base_uri": "https://localhost:8080/",
          "height": 34
        },
        "outputId": "6139ea0a-8735-4581-aa8d-e90415581219"
      },
      "source": [
        "print(ransac.score(outliers, housing_data_output[~ransac.inlier_mask_]))"
      ],
      "execution_count": null,
      "outputs": [
        {
          "output_type": "stream",
          "text": [
            "0.36142492549965544\n"
          ],
          "name": "stdout"
        }
      ]
    },
    {
      "cell_type": "code",
      "metadata": {
        "id": "p31z_jIvI_ta",
        "colab": {
          "base_uri": "https://localhost:8080/",
          "height": 283
        },
        "outputId": "da6b23f6-7e14-4b61-9784-010f668dbcb9"
      },
      "source": [
        "import matplotlib.pyplot as plt\n",
        "plt.scatter(inliers.rooms, housing_data_output[ransac.inlier_mask_], label = \"inliers\")\n",
        "plt.scatter(outliers.rooms, housing_data_output[~ransac.inlier_mask_], label = \"outliers\")\n",
        "plt.legend()\n",
        "plt.xlabel(\"Rooms\")\n",
        "plt.ylabel(\"Price\")\n",
        "plt.show()"
      ],
      "execution_count": null,
      "outputs": [
        {
          "output_type": "display_data",
          "data": {
            "image/png": "[encoded data removed]",
            "text/plain": [
              "<Figure size 432x288 with 1 Axes>"
            ]
          },
          "metadata": {
            "tags": []
          }
        }
      ]
    },
    {
      "cell_type": "code",
      "metadata": {
        "id": "SRzdTdNZJPck"
      },
      "source": [
        "from sklearn.preprocessing import PolynomialFeatures"
      ],
      "execution_count": null,
      "outputs": []
    },
    {
      "cell_type": "code",
      "metadata": {
        "id": "dAOvIq5bKaGE"
      },
      "source": [
        "polynomial_features = PolynomialFeatures(2, interaction_only=False)"
      ],
      "execution_count": null,
      "outputs": []
    },
    {
      "cell_type": "code",
      "metadata": {
        "id": "ibxhlGf5Kjy7"
      },
      "source": [
        "polynomial_input = polynomial_features.fit_transform(housing_data_input)"
      ],
      "execution_count": null,
      "outputs": []
    },
    {
      "cell_type": "code",
      "metadata": {
        "id": "-JeU4ZNVKwgu"
      },
      "source": [
        "polynomial_model = LinearRegression()"
      ],
      "execution_count": null,
      "outputs": []
    },
    {
      "cell_type": "code",
      "metadata": {
        "id": "S8OZ1XxIK29W",
        "colab": {
          "base_uri": "https://localhost:8080/",
          "height": 34
        },
        "outputId": "6f08e086-60b7-4a6b-8db8-b04776f7c651"
      },
      "source": [
        "polynomial_model.fit(polynomial_input, housing_data_output)"
      ],
      "execution_count": null,
      "outputs": [
        {
          "output_type": "execute_result",
          "data": {
            "text/plain": [
              "LinearRegression(copy_X=True, fit_intercept=True, n_jobs=None, normalize=False)"
            ]
          },
          "metadata": {
            "tags": []
          },
          "execution_count": 45
        }
      ]
    },
    {
      "cell_type": "code",
      "metadata": {
        "id": "otQ_3N1QLAlC",
        "colab": {
          "base_uri": "https://localhost:8080/",
          "height": 34
        },
        "outputId": "7f8d998b-8956-4b0e-ea4f-f3bf5b6514c5"
      },
      "source": [
        "# 2 -> 0.8863751179612701\n",
        "# 3 -> 0.9989291660161697\n",
        "polynomial_model.score(polynomial_input, housing_data_output)"
      ],
      "execution_count": null,
      "outputs": [
        {
          "output_type": "execute_result",
          "data": {
            "text/plain": [
              "0.8863751179612701"
            ]
          },
          "metadata": {
            "tags": []
          },
          "execution_count": 46
        }
      ]
    },
    {
      "cell_type": "code",
      "metadata": {
        "id": "9dd-c6KtLcH6",
        "colab": {
          "base_uri": "https://localhost:8080/",
          "height": 34
        },
        "outputId": "1db32490-b1ce-49c5-ca72-b2d8aa5fe540"
      },
      "source": [
        "polynomial_model.coef_.shape"
      ],
      "execution_count": null,
      "outputs": [
        {
          "output_type": "execute_result",
          "data": {
            "text/plain": [
              "(105,)"
            ]
          },
          "metadata": {
            "tags": []
          },
          "execution_count": 47
        }
      ]
    }
  ]
}